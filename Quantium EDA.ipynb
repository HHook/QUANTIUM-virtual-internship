{
 "cells": [
  {
   "cell_type": "markdown",
   "metadata": {},
   "source": [
    "# Quantium Virtual Internship"
   ]
  },
  {
   "cell_type": "markdown",
   "metadata": {},
   "source": [
    "## The task\n",
    "We need to analyse the data to understand current purchasing trends and behaviours. The client is particularly interested in customer segments and their chip purchasing behaviour. Consider what metrics would help describe the customers’ purchasing behaviour.  "
   ]
  },
  {
   "cell_type": "markdown",
   "metadata": {},
   "source": [
    "# EDA\n",
    "To get started, download the resource csv data files below and begin performing high level data checks such as:\n",
    "Creating and interpreting high level summaries of the data\n",
    "Finding outliers and removing these (if applicable)\n",
    "Checking data formats and correcting (if applicable)\n",
    "\n",
    "You will also want to derive extra features such as pack size and brand name from the data.  Remember our end goal is to form a strategy based on the findings to provide a clear recommendation to Julia the Category Manager so make sure your insights can have a commercial application.\n",
    "\n",
    "Examine transaction data – look for inconsistencies, missing data across the data set, outliers, correctly identified category items, numeric data across all tables. \n",
    "\n",
    "Examine customer data – check for similar issues in the customer data, look for nulls and when you are happy merge the transaction and customer data together so it’s ready for the analysis ensuring you save your files along the way.\n",
    "\n",
    "Data analysis and customer segments – in your analysis make sure you define the metrics – look at total sales, drivers of sales, where the highest sales are coming from etc. Explore the data, create charts and graphs as well as noting any interesting trends and/or insights you find. These will all form part of our report to Julia. \n",
    "\n",
    "Deep dive into customer segments – define your recommendation from your insights, determine which segments we should be targeting, if packet sizes are relative and form an overall conclusion based on your analysis. "
   ]
  },
  {
   "cell_type": "code",
   "execution_count": 204,
   "metadata": {},
   "outputs": [],
   "source": [
    "import numpy as np\n",
    "import pandas as pd\n",
    "import matplotlib.pyplot as plt\n",
    "%matplotlib inline\n",
    "import seaborn as sns\n",
    "sns.set_style('whitegrid')\n",
    "sns.set_palette('magma')"
   ]
  },
  {
   "cell_type": "code",
   "execution_count": 46,
   "metadata": {},
   "outputs": [
    {
     "data": {
      "text/html": [
       "<div>\n",
       "<style scoped>\n",
       "    .dataframe tbody tr th:only-of-type {\n",
       "        vertical-align: middle;\n",
       "    }\n",
       "\n",
       "    .dataframe tbody tr th {\n",
       "        vertical-align: top;\n",
       "    }\n",
       "\n",
       "    .dataframe thead th {\n",
       "        text-align: right;\n",
       "    }\n",
       "</style>\n",
       "<table border=\"1\" class=\"dataframe\">\n",
       "  <thead>\n",
       "    <tr style=\"text-align: right;\">\n",
       "      <th></th>\n",
       "      <th>DATE</th>\n",
       "      <th>STORE_NBR</th>\n",
       "      <th>LYLTY_CARD_NBR</th>\n",
       "      <th>TXN_ID</th>\n",
       "      <th>PROD_NBR</th>\n",
       "      <th>PROD_NAME</th>\n",
       "      <th>PROD_QTY</th>\n",
       "      <th>TOT_SALES</th>\n",
       "    </tr>\n",
       "  </thead>\n",
       "  <tbody>\n",
       "    <tr>\n",
       "      <th>0</th>\n",
       "      <td>43390</td>\n",
       "      <td>1</td>\n",
       "      <td>1000</td>\n",
       "      <td>1</td>\n",
       "      <td>5</td>\n",
       "      <td>Natural Chip        Compny SeaSalt175g</td>\n",
       "      <td>2</td>\n",
       "      <td>6.0</td>\n",
       "    </tr>\n",
       "    <tr>\n",
       "      <th>1</th>\n",
       "      <td>43599</td>\n",
       "      <td>1</td>\n",
       "      <td>1307</td>\n",
       "      <td>348</td>\n",
       "      <td>66</td>\n",
       "      <td>CCs Nacho Cheese    175g</td>\n",
       "      <td>3</td>\n",
       "      <td>6.3</td>\n",
       "    </tr>\n",
       "    <tr>\n",
       "      <th>2</th>\n",
       "      <td>43605</td>\n",
       "      <td>1</td>\n",
       "      <td>1343</td>\n",
       "      <td>383</td>\n",
       "      <td>61</td>\n",
       "      <td>Smiths Crinkle Cut  Chips Chicken 170g</td>\n",
       "      <td>2</td>\n",
       "      <td>2.9</td>\n",
       "    </tr>\n",
       "    <tr>\n",
       "      <th>3</th>\n",
       "      <td>43329</td>\n",
       "      <td>2</td>\n",
       "      <td>2373</td>\n",
       "      <td>974</td>\n",
       "      <td>69</td>\n",
       "      <td>Smiths Chip Thinly  S/Cream&amp;Onion 175g</td>\n",
       "      <td>5</td>\n",
       "      <td>15.0</td>\n",
       "    </tr>\n",
       "    <tr>\n",
       "      <th>4</th>\n",
       "      <td>43330</td>\n",
       "      <td>2</td>\n",
       "      <td>2426</td>\n",
       "      <td>1038</td>\n",
       "      <td>108</td>\n",
       "      <td>Kettle Tortilla ChpsHny&amp;Jlpno Chili 150g</td>\n",
       "      <td>3</td>\n",
       "      <td>13.8</td>\n",
       "    </tr>\n",
       "  </tbody>\n",
       "</table>\n",
       "</div>"
      ],
      "text/plain": [
       "    DATE  STORE_NBR  LYLTY_CARD_NBR  TXN_ID  PROD_NBR  \\\n",
       "0  43390          1            1000       1         5   \n",
       "1  43599          1            1307     348        66   \n",
       "2  43605          1            1343     383        61   \n",
       "3  43329          2            2373     974        69   \n",
       "4  43330          2            2426    1038       108   \n",
       "\n",
       "                                  PROD_NAME  PROD_QTY  TOT_SALES  \n",
       "0    Natural Chip        Compny SeaSalt175g         2        6.0  \n",
       "1                  CCs Nacho Cheese    175g         3        6.3  \n",
       "2    Smiths Crinkle Cut  Chips Chicken 170g         2        2.9  \n",
       "3    Smiths Chip Thinly  S/Cream&Onion 175g         5       15.0  \n",
       "4  Kettle Tortilla ChpsHny&Jlpno Chili 150g         3       13.8  "
      ]
     },
     "execution_count": 46,
     "metadata": {},
     "output_type": "execute_result"
    }
   ],
   "source": [
    "df = pd.read_excel('data/QVI_transaction_data.xlsx')\n",
    "df.head()"
   ]
  },
  {
   "cell_type": "code",
   "execution_count": 47,
   "metadata": {},
   "outputs": [
    {
     "data": {
      "text/plain": [
       "(264836, 8)"
      ]
     },
     "execution_count": 47,
     "metadata": {},
     "output_type": "execute_result"
    }
   ],
   "source": [
    "df.shape"
   ]
  },
  {
   "cell_type": "code",
   "execution_count": 48,
   "metadata": {},
   "outputs": [],
   "source": [
    "# function to get the weight of pack\n",
    "def get_weight(name):\n",
    "    if name.startswith('Kettle 135g'):\n",
    "        return name[7:10].strip()\n",
    "    else:\n",
    "        return name[-4:-1].strip()"
   ]
  },
  {
   "cell_type": "code",
   "execution_count": 49,
   "metadata": {},
   "outputs": [],
   "source": [
    "df['weight'] = df['PROD_NAME'].apply(lambda x: get_weight(x))"
   ]
  },
  {
   "cell_type": "code",
   "execution_count": 50,
   "metadata": {},
   "outputs": [],
   "source": [
    "# change weight data type to integer\n",
    "df['weight'] = df['weight'].astype(int)"
   ]
  },
  {
   "cell_type": "code",
   "execution_count": 51,
   "metadata": {},
   "outputs": [],
   "source": [
    "# get brand name\n",
    "df['brand'] = df['PROD_NAME'].apply(lambda x: x.split()[0])"
   ]
  },
  {
   "cell_type": "code",
   "execution_count": 52,
   "metadata": {},
   "outputs": [
    {
     "data": {
      "text/plain": [
       "Kettle        41288\n",
       "Smiths        28860\n",
       "Pringles      25102\n",
       "Doritos       24962\n",
       "Thins         14075\n",
       "RRD           11894\n",
       "Infuzions     11057\n",
       "WW            10320\n",
       "Cobs           9693\n",
       "Tostitos       9471\n",
       "Twisties       9454\n",
       "Old            9324\n",
       "Tyrrells       6442\n",
       "Grain          6272\n",
       "Natural        6050\n",
       "Red            5885\n",
       "Cheezels       4603\n",
       "CCs            4551\n",
       "Woolworths     4437\n",
       "Dorito         3185\n",
       "Infzns         3144\n",
       "Smith          2963\n",
       "Cheetos        2927\n",
       "Snbts          1576\n",
       "Burger         1564\n",
       "GrnWves        1468\n",
       "Sunbites       1432\n",
       "NCC            1419\n",
       "French         1418\n",
       "Name: brand, dtype: int64"
      ]
     },
     "execution_count": 52,
     "metadata": {},
     "output_type": "execute_result"
    }
   ],
   "source": [
    "# check brand names\n",
    "df['brand'].value_counts()"
   ]
  },
  {
   "cell_type": "code",
   "execution_count": 65,
   "metadata": {},
   "outputs": [],
   "source": [
    "# rename brand names\n",
    "df.loc[df['PROD_NAME'].str.startswith('Red'), ['brand']] = 'Red Rock Deli'\n",
    "df.loc[df['PROD_NAME'].str.startswith('Old'), ['brand']] = 'Old El Paso'\n",
    "df.loc[df['PROD_NAME'].str.startswith('Dorito'), ['brand']] = 'Doritos'\n",
    "df.loc[df['PROD_NAME'].str.startswith('Natural'), ['brand']] = 'Natural Chip Co'\n",
    "df.loc[df['PROD_NAME'].str.startswith('NCC'), ['brand']] = 'Natural Chip Co'\n",
    "df.loc[df['PROD_NAME'].str.startswith('Infzns'), ['brand']] = 'Infuzions'\n",
    "df.loc[df['PROD_NAME'].str.startswith('Snbts'), ['brand']] = 'Sunbites'\n",
    "df.loc[df['PROD_NAME'].str.startswith('GrnWves'), ['brand']] = 'Sunbites'\n",
    "df.loc[df['PROD_NAME'].str.startswith('Burger'), ['brand']] = 'Smiths'\n",
    "df.loc[df['PROD_NAME'].str.startswith('Smith'), ['brand']] = 'Smiths'\n",
    "df.loc[df['PROD_NAME'].str.startswith('French'), ['brand']] = 'French Fries'"
   ]
  },
  {
   "cell_type": "markdown",
   "metadata": {},
   "source": [
    "#### Wrong categories"
   ]
  },
  {
   "cell_type": "code",
   "execution_count": 55,
   "metadata": {},
   "outputs": [
    {
     "data": {
      "text/plain": [
       "Smiths Crinkle Cut  French OnionDip 150g    1438\n",
       "Name: PROD_NAME, dtype: int64"
      ]
     },
     "execution_count": 55,
     "metadata": {},
     "output_type": "execute_result"
    }
   ],
   "source": [
    "# dip in Smiths brand is just a name for chip flavor, not wrongly categorised\n",
    "df[(df['PROD_NAME'].str.contains('Dip')) & (df['brand']=='Smiths')]['PROD_NAME'].value_counts()"
   ]
  },
  {
   "cell_type": "code",
   "execution_count": 56,
   "metadata": {},
   "outputs": [
    {
     "data": {
      "text/plain": [
       "Old El Paso Salsa   Dip Chnky Tom Ht300g    3125\n",
       "Old El Paso Salsa   Dip Tomato Med 300g     3114\n",
       "Old El Paso Salsa   Dip Tomato Mild 300g    3085\n",
       "Name: PROD_NAME, dtype: int64"
      ]
     },
     "execution_count": 56,
     "metadata": {},
     "output_type": "execute_result"
    }
   ],
   "source": [
    "# Old El Paso Salsa Dips are wrongly categories under chips\n",
    "df[df['PROD_NAME'].str.startswith('Old')]['PROD_NAME'].value_counts()"
   ]
  },
  {
   "cell_type": "code",
   "execution_count": 57,
   "metadata": {},
   "outputs": [
    {
     "data": {
      "text/plain": [
       "Woolworths Mild     Salsa 300g    1491\n",
       "Woolworths Medium   Salsa 300g    1430\n",
       "Name: PROD_NAME, dtype: int64"
      ]
     },
     "execution_count": 57,
     "metadata": {},
     "output_type": "execute_result"
    }
   ],
   "source": [
    "# Woolworth salsas wrongly categorised\n",
    "df[(df['brand']=='Woolworths') & (df['PROD_NAME'].str.contains('Salsa'))]['PROD_NAME'].value_counts()"
   ]
  },
  {
   "cell_type": "code",
   "execution_count": 62,
   "metadata": {},
   "outputs": [
    {
     "data": {
      "text/plain": [
       "Series([], Name: PROD_NAME, dtype: int64)"
      ]
     },
     "execution_count": 62,
     "metadata": {},
     "output_type": "execute_result"
    }
   ],
   "source": [
    "# Doritos salsas wrongly categorised\n",
    "df[(df['brand']=='Doritos') & (df['PROD_NAME'].str.contains('Salsa'))]['PROD_NAME'].value_counts()"
   ]
  },
  {
   "cell_type": "code",
   "execution_count": 59,
   "metadata": {},
   "outputs": [],
   "source": [
    "# identify all Old El Paso dip product rows\n",
    "old_el = df[df['PROD_NAME'].str.startswith('Old')].index\n",
    "# identify Doritos salsas\n",
    "doritos_salsa = df[(df['brand']=='Doritos') & (df['PROD_NAME'].str.contains('Salsa'))].index\n",
    "# identify Woolworth salsas\n",
    "woolworth_salsa = df[(df['brand']=='Woolworths') & (df['PROD_NAME'].str.contains('Salsa'))]['PROD_NAME'].index"
   ]
  },
  {
   "cell_type": "code",
   "execution_count": 61,
   "metadata": {},
   "outputs": [],
   "source": [
    "# remove Old El Paso dips, Doritos salsas and Woolworths salsas\n",
    "df = df.drop(old_el)\n",
    "df = df.drop(doritos_salsa)\n",
    "df = df.drop(woolworth_salsa)"
   ]
  },
  {
   "cell_type": "markdown",
   "metadata": {},
   "source": [
    "### Visualise"
   ]
  },
  {
   "cell_type": "code",
   "execution_count": 256,
   "metadata": {},
   "outputs": [
    {
     "data": {
      "image/png": "[encoded data removed]",
      "text/plain": [
       "<Figure size 864x432 with 1 Axes>"
      ]
     },
     "metadata": {},
     "output_type": "display_data"
    }
   ],
   "source": [
    "plt.figure(figsize=(12,6))\n",
    "\n",
    "bins = [70, 110, 150, 175, 380]\n",
    "q = pd.cut(df['weight'], bins=bins).value_counts(normalize=True).sort_index()*100\n",
    "y = q.values\n",
    "x = q.index\n",
    "\n",
    "sns.barplot(x=x, y=y, palette='magma')\n",
    "\n",
    "plt.xlabel('Pack size in grams', fontsize=12)\n",
    "plt.ylabel('% of sales', fontsize=13)\n",
    "plt.title('Most popular pack sizes', fontsize=14);"
   ]
  },
  {
   "cell_type": "code",
   "execution_count": 229,
   "metadata": {},
   "outputs": [],
   "source": [
    "brand_counts = df['brand'].value_counts(normalize=True)*100"
   ]
  },
  {
   "cell_type": "code",
   "execution_count": 230,
   "metadata": {},
   "outputs": [
    {
     "data": {
      "text/plain": [
       "Kettle             16.537029\n",
       "Smiths             13.372452\n",
       "Doritos            10.103737\n",
       "Pringles           10.054071\n",
       "Infuzions           5.687908\n",
       "Thins               5.637441\n",
       "RRD                 4.763888\n",
       "WW                  4.133456\n",
       "Cobs                3.882325\n",
       "Tostitos            3.793407\n",
       "Twisties            3.786598\n",
       "Natural Chip Co     2.991549\n",
       "Tyrrells            2.580206\n",
       "Grain               2.512116\n",
       "Red Rock Deli       2.357111\n",
       "Cheezels            1.843634\n",
       "CCs                 1.822806\n",
       "Sunbites            1.792766\n",
       "Cheetos             1.172347\n",
       "Woolworths          0.607202\n",
       "French Fries        0.567950\n",
       "Name: brand, dtype: float64"
      ]
     },
     "execution_count": 230,
     "metadata": {},
     "output_type": "execute_result"
    }
   ],
   "source": [
    "brand_counts"
   ]
  },
  {
   "cell_type": "code",
   "execution_count": 258,
   "metadata": {},
   "outputs": [
    {
     "data": {
      "text/plain": [
       "''"
      ]
     },
     "execution_count": 258,
     "metadata": {},
     "output_type": "execute_result"
    },
    {
     "data": {
      "image/png": "[encoded data removed]",
      "text/plain": [
       "<Figure size 1224x432 with 1 Axes>"
      ]
     },
     "metadata": {},
     "output_type": "display_data"
    }
   ],
   "source": [
    "plt.figure(figsize=(17,6))\n",
    "\n",
    "brand_counts = df['brand'].value_counts(normalize=True)*100\n",
    "y = brand_counts.values\n",
    "x = brand_counts.index\n",
    "\n",
    "sns.barplot(x=x, y=y, palette='magma_r')\n",
    "plt.xticks(rotation=45)\n",
    "plt.xlabel('Brand', fontsize=13)\n",
    "plt.ylabel('% of sales', fontsize=13)\n",
    "plt.title('Most popular brands', fontsize=14)\n",
    ";"
   ]
  },
  {
   "cell_type": "code",
   "execution_count": 259,
   "metadata": {},
   "outputs": [
    {
     "data": {
      "text/html": [
       "<div>\n",
       "<style scoped>\n",
       "    .dataframe tbody tr th:only-of-type {\n",
       "        vertical-align: middle;\n",
       "    }\n",
       "\n",
       "    .dataframe tbody tr th {\n",
       "        vertical-align: top;\n",
       "    }\n",
       "\n",
       "    .dataframe thead th {\n",
       "        text-align: right;\n",
       "    }\n",
       "</style>\n",
       "<table border=\"1\" class=\"dataframe\">\n",
       "  <thead>\n",
       "    <tr style=\"text-align: right;\">\n",
       "      <th></th>\n",
       "      <th>DATE</th>\n",
       "      <th>STORE_NBR</th>\n",
       "      <th>LYLTY_CARD_NBR</th>\n",
       "      <th>TXN_ID</th>\n",
       "      <th>PROD_NBR</th>\n",
       "      <th>PROD_NAME</th>\n",
       "      <th>PROD_QTY</th>\n",
       "      <th>TOT_SALES</th>\n",
       "      <th>weight</th>\n",
       "      <th>brand</th>\n",
       "    </tr>\n",
       "  </thead>\n",
       "  <tbody>\n",
       "    <tr>\n",
       "      <th>166582</th>\n",
       "      <td>43338</td>\n",
       "      <td>208</td>\n",
       "      <td>208023</td>\n",
       "      <td>206238</td>\n",
       "      <td>97</td>\n",
       "      <td>RRD Salt &amp; Vinegar  165g</td>\n",
       "      <td>2</td>\n",
       "      <td>6.0</td>\n",
       "      <td>165</td>\n",
       "      <td>RRD</td>\n",
       "    </tr>\n",
       "    <tr>\n",
       "      <th>184456</th>\n",
       "      <td>43316</td>\n",
       "      <td>260</td>\n",
       "      <td>260168</td>\n",
       "      <td>259361</td>\n",
       "      <td>88</td>\n",
       "      <td>Kettle Honey Soy    Chicken 175g</td>\n",
       "      <td>2</td>\n",
       "      <td>10.8</td>\n",
       "      <td>175</td>\n",
       "      <td>Kettle</td>\n",
       "    </tr>\n",
       "    <tr>\n",
       "      <th>1846</th>\n",
       "      <td>43489</td>\n",
       "      <td>97</td>\n",
       "      <td>97242</td>\n",
       "      <td>97802</td>\n",
       "      <td>93</td>\n",
       "      <td>Doritos Corn Chip Southern Chicken 150g</td>\n",
       "      <td>2</td>\n",
       "      <td>7.8</td>\n",
       "      <td>150</td>\n",
       "      <td>Doritos</td>\n",
       "    </tr>\n",
       "    <tr>\n",
       "      <th>256393</th>\n",
       "      <td>43645</td>\n",
       "      <td>241</td>\n",
       "      <td>241020</td>\n",
       "      <td>244678</td>\n",
       "      <td>26</td>\n",
       "      <td>Pringles Sweet&amp;Spcy BBQ 134g</td>\n",
       "      <td>2</td>\n",
       "      <td>7.4</td>\n",
       "      <td>134</td>\n",
       "      <td>Pringles</td>\n",
       "    </tr>\n",
       "    <tr>\n",
       "      <th>52995</th>\n",
       "      <td>43423</td>\n",
       "      <td>236</td>\n",
       "      <td>236076</td>\n",
       "      <td>239017</td>\n",
       "      <td>90</td>\n",
       "      <td>Tostitos Smoked     Chipotle 175g</td>\n",
       "      <td>2</td>\n",
       "      <td>8.8</td>\n",
       "      <td>175</td>\n",
       "      <td>Tostitos</td>\n",
       "    </tr>\n",
       "    <tr>\n",
       "      <th>80370</th>\n",
       "      <td>43559</td>\n",
       "      <td>269</td>\n",
       "      <td>269162</td>\n",
       "      <td>266011</td>\n",
       "      <td>53</td>\n",
       "      <td>RRD Sweet Chilli &amp;  Sour Cream 165g</td>\n",
       "      <td>2</td>\n",
       "      <td>6.0</td>\n",
       "      <td>165</td>\n",
       "      <td>RRD</td>\n",
       "    </tr>\n",
       "    <tr>\n",
       "      <th>46007</th>\n",
       "      <td>43457</td>\n",
       "      <td>155</td>\n",
       "      <td>155242</td>\n",
       "      <td>156539</td>\n",
       "      <td>25</td>\n",
       "      <td>Pringles SourCream  Onion 134g</td>\n",
       "      <td>2</td>\n",
       "      <td>7.4</td>\n",
       "      <td>134</td>\n",
       "      <td>Pringles</td>\n",
       "    </tr>\n",
       "    <tr>\n",
       "      <th>918</th>\n",
       "      <td>43483</td>\n",
       "      <td>47</td>\n",
       "      <td>47182</td>\n",
       "      <td>42585</td>\n",
       "      <td>50</td>\n",
       "      <td>Tostitos Lightly    Salted 175g</td>\n",
       "      <td>2</td>\n",
       "      <td>8.8</td>\n",
       "      <td>175</td>\n",
       "      <td>Tostitos</td>\n",
       "    </tr>\n",
       "    <tr>\n",
       "      <th>228252</th>\n",
       "      <td>43466</td>\n",
       "      <td>269</td>\n",
       "      <td>269185</td>\n",
       "      <td>266163</td>\n",
       "      <td>107</td>\n",
       "      <td>Smiths Crinkle Cut  French OnionDip 150g</td>\n",
       "      <td>2</td>\n",
       "      <td>5.2</td>\n",
       "      <td>150</td>\n",
       "      <td>Smiths</td>\n",
       "    </tr>\n",
       "    <tr>\n",
       "      <th>122440</th>\n",
       "      <td>43418</td>\n",
       "      <td>70</td>\n",
       "      <td>70233</td>\n",
       "      <td>68812</td>\n",
       "      <td>111</td>\n",
       "      <td>Smiths Chip Thinly  Cut Original 175g</td>\n",
       "      <td>2</td>\n",
       "      <td>6.0</td>\n",
       "      <td>175</td>\n",
       "      <td>Smiths</td>\n",
       "    </tr>\n",
       "  </tbody>\n",
       "</table>\n",
       "</div>"
      ],
      "text/plain": [
       "         DATE  STORE_NBR  LYLTY_CARD_NBR  TXN_ID  PROD_NBR  \\\n",
       "166582  43338        208          208023  206238        97   \n",
       "184456  43316        260          260168  259361        88   \n",
       "1846    43489         97           97242   97802        93   \n",
       "256393  43645        241          241020  244678        26   \n",
       "52995   43423        236          236076  239017        90   \n",
       "80370   43559        269          269162  266011        53   \n",
       "46007   43457        155          155242  156539        25   \n",
       "918     43483         47           47182   42585        50   \n",
       "228252  43466        269          269185  266163       107   \n",
       "122440  43418         70           70233   68812       111   \n",
       "\n",
       "                                       PROD_NAME  PROD_QTY  TOT_SALES  weight  \\\n",
       "166582                  RRD Salt & Vinegar  165g         2        6.0     165   \n",
       "184456          Kettle Honey Soy    Chicken 175g         2       10.8     175   \n",
       "1846     Doritos Corn Chip Southern Chicken 150g         2        7.8     150   \n",
       "256393              Pringles Sweet&Spcy BBQ 134g         2        7.4     134   \n",
       "52995          Tostitos Smoked     Chipotle 175g         2        8.8     175   \n",
       "80370        RRD Sweet Chilli &  Sour Cream 165g         2        6.0     165   \n",
       "46007             Pringles SourCream  Onion 134g         2        7.4     134   \n",
       "918              Tostitos Lightly    Salted 175g         2        8.8     175   \n",
       "228252  Smiths Crinkle Cut  French OnionDip 150g         2        5.2     150   \n",
       "122440     Smiths Chip Thinly  Cut Original 175g         2        6.0     175   \n",
       "\n",
       "           brand  \n",
       "166582       RRD  \n",
       "184456    Kettle  \n",
       "1846     Doritos  \n",
       "256393  Pringles  \n",
       "52995   Tostitos  \n",
       "80370        RRD  \n",
       "46007   Pringles  \n",
       "918     Tostitos  \n",
       "228252    Smiths  \n",
       "122440    Smiths  "
      ]
     },
     "execution_count": 259,
     "metadata": {},
     "output_type": "execute_result"
    }
   ],
   "source": [
    "df.sample(10)"
   ]
  },
  {
   "cell_type": "code",
   "execution_count": 345,
   "metadata": {},
   "outputs": [],
   "source": [
    "df_items = df[['PROD_NAME', 'TOT_SALES']]\n",
    "katse = df_items.groupby('PROD_NAME').sum().head(30).sort_values(['TOT_SALES'],ascending=False)"
   ]
  },
  {
   "cell_type": "code",
   "execution_count": 357,
   "metadata": {},
   "outputs": [
    {
     "data": {
      "text/html": [
       "<div>\n",
       "<style scoped>\n",
       "    .dataframe tbody tr th:only-of-type {\n",
       "        vertical-align: middle;\n",
       "    }\n",
       "\n",
       "    .dataframe tbody tr th {\n",
       "        vertical-align: top;\n",
       "    }\n",
       "\n",
       "    .dataframe thead th {\n",
       "        text-align: right;\n",
       "    }\n",
       "</style>\n",
       "<table border=\"1\" class=\"dataframe\">\n",
       "  <thead>\n",
       "    <tr style=\"text-align: right;\">\n",
       "      <th></th>\n",
       "      <th>TOT_SALES</th>\n",
       "    </tr>\n",
       "    <tr>\n",
       "      <th>PROD_NAME</th>\n",
       "      <th></th>\n",
       "    </tr>\n",
       "  </thead>\n",
       "  <tbody>\n",
       "    <tr>\n",
       "      <th>Dorito Corn Chp     Supreme 380g</th>\n",
       "      <td>40352.0</td>\n",
       "    </tr>\n",
       "    <tr>\n",
       "      <th>Cheezels Cheese 330g</th>\n",
       "      <td>34296.9</td>\n",
       "    </tr>\n",
       "    <tr>\n",
       "      <th>Doritos Cheese      Supreme 330g</th>\n",
       "      <td>33390.6</td>\n",
       "    </tr>\n",
       "    <tr>\n",
       "      <th>Kettle Chilli 175g</th>\n",
       "      <td>31271.4</td>\n",
       "    </tr>\n",
       "    <tr>\n",
       "      <th>Doritos Corn Chips  Cheese Supreme 170g</th>\n",
       "      <td>27183.2</td>\n",
       "    </tr>\n",
       "    <tr>\n",
       "      <th>Doritos Corn Chips  Nacho Cheese 170g</th>\n",
       "      <td>26562.8</td>\n",
       "    </tr>\n",
       "    <tr>\n",
       "      <th>Doritos Mexicana    170g</th>\n",
       "      <td>26290.0</td>\n",
       "    </tr>\n",
       "    <tr>\n",
       "      <th>Doritos Corn Chips  Original 170g</th>\n",
       "      <td>26228.4</td>\n",
       "    </tr>\n",
       "    <tr>\n",
       "      <th>Kettle 135g Swt Pot Sea Salt</th>\n",
       "      <td>26090.4</td>\n",
       "    </tr>\n",
       "    <tr>\n",
       "      <th>Doritos Corn Chip Mexican Jalapeno 150g</th>\n",
       "      <td>23887.5</td>\n",
       "    </tr>\n",
       "    <tr>\n",
       "      <th>Cobs Popd Sea Salt  Chips 110g</th>\n",
       "      <td>23852.6</td>\n",
       "    </tr>\n",
       "    <tr>\n",
       "      <th>Cobs Popd Swt/Chlli &amp;Sr/Cream Chips 110g</th>\n",
       "      <td>23772.8</td>\n",
       "    </tr>\n",
       "    <tr>\n",
       "      <th>Doritos Corn Chip Southern Chicken 150g</th>\n",
       "      <td>23735.4</td>\n",
       "    </tr>\n",
       "    <tr>\n",
       "      <th>Infuzions Thai SweetChili PotatoMix 110g</th>\n",
       "      <td>23582.8</td>\n",
       "    </tr>\n",
       "    <tr>\n",
       "      <th>Infuzions BBQ Rib   Prawn Crackers 110g</th>\n",
       "      <td>23111.6</td>\n",
       "    </tr>\n",
       "    <tr>\n",
       "      <th>Cobs Popd Sour Crm  &amp;Chives Chips 110g</th>\n",
       "      <td>22944.4</td>\n",
       "    </tr>\n",
       "    <tr>\n",
       "      <th>Infzns Crn Crnchers Tangy Gcamole 110g</th>\n",
       "      <td>22800.0</td>\n",
       "    </tr>\n",
       "    <tr>\n",
       "      <th>Infuzions SourCream&amp;Herbs Veg Strws 110g</th>\n",
       "      <td>22701.2</td>\n",
       "    </tr>\n",
       "    <tr>\n",
       "      <th>Grain Waves         Sweet Chilli 210g</th>\n",
       "      <td>21700.8</td>\n",
       "    </tr>\n",
       "    <tr>\n",
       "      <th>Grain Waves Sour    Cream&amp;Chives 210G</th>\n",
       "      <td>21348.0</td>\n",
       "    </tr>\n",
       "    <tr>\n",
       "      <th>Cheetos Chs &amp; Bacon Balls 190g</th>\n",
       "      <td>9243.3</td>\n",
       "    </tr>\n",
       "    <tr>\n",
       "      <th>GrnWves Plus Btroot &amp; Chilli Jam 180g</th>\n",
       "      <td>8568.4</td>\n",
       "    </tr>\n",
       "    <tr>\n",
       "      <th>French Fries Potato Chips 175g</th>\n",
       "      <td>7929.0</td>\n",
       "    </tr>\n",
       "    <tr>\n",
       "      <th>Cheetos Puffs 165g</th>\n",
       "      <td>7641.2</td>\n",
       "    </tr>\n",
       "    <tr>\n",
       "      <th>Infuzions Mango     Chutny Papadums 70g</th>\n",
       "      <td>6852.0</td>\n",
       "    </tr>\n",
       "    <tr>\n",
       "      <th>Burger Rings 220g</th>\n",
       "      <td>6831.0</td>\n",
       "    </tr>\n",
       "    <tr>\n",
       "      <th>CCs Tasty Cheese    175g</th>\n",
       "      <td>6069.0</td>\n",
       "    </tr>\n",
       "    <tr>\n",
       "      <th>CCs Original 175g</th>\n",
       "      <td>6048.0</td>\n",
       "    </tr>\n",
       "    <tr>\n",
       "      <th>CCs Nacho Cheese    175g</th>\n",
       "      <td>5961.9</td>\n",
       "    </tr>\n",
       "    <tr>\n",
       "      <th>Cheezels Cheese Box 125g</th>\n",
       "      <td>5733.0</td>\n",
       "    </tr>\n",
       "  </tbody>\n",
       "</table>\n",
       "</div>"
      ],
      "text/plain": [
       "                                          TOT_SALES\n",
       "PROD_NAME                                          \n",
       "Dorito Corn Chp     Supreme 380g            40352.0\n",
       "Cheezels Cheese 330g                        34296.9\n",
       "Doritos Cheese      Supreme 330g            33390.6\n",
       "Kettle Chilli 175g                          31271.4\n",
       "Doritos Corn Chips  Cheese Supreme 170g     27183.2\n",
       "Doritos Corn Chips  Nacho Cheese 170g       26562.8\n",
       "Doritos Mexicana    170g                    26290.0\n",
       "Doritos Corn Chips  Original 170g           26228.4\n",
       "Kettle 135g Swt Pot Sea Salt                26090.4\n",
       "Doritos Corn Chip Mexican Jalapeno 150g     23887.5\n",
       "Cobs Popd Sea Salt  Chips 110g              23852.6\n",
       "Cobs Popd Swt/Chlli &Sr/Cream Chips 110g    23772.8\n",
       "Doritos Corn Chip Southern Chicken 150g     23735.4\n",
       "Infuzions Thai SweetChili PotatoMix 110g    23582.8\n",
       "Infuzions BBQ Rib   Prawn Crackers 110g     23111.6\n",
       "Cobs Popd Sour Crm  &Chives Chips 110g      22944.4\n",
       "Infzns Crn Crnchers Tangy Gcamole 110g      22800.0\n",
       "Infuzions SourCream&Herbs Veg Strws 110g    22701.2\n",
       "Grain Waves         Sweet Chilli 210g       21700.8\n",
       "Grain Waves Sour    Cream&Chives 210G       21348.0\n",
       "Cheetos Chs & Bacon Balls 190g               9243.3\n",
       "GrnWves Plus Btroot & Chilli Jam 180g        8568.4\n",
       "French Fries Potato Chips 175g               7929.0\n",
       "Cheetos Puffs 165g                           7641.2\n",
       "Infuzions Mango     Chutny Papadums 70g      6852.0\n",
       "Burger Rings 220g                            6831.0\n",
       "CCs Tasty Cheese    175g                     6069.0\n",
       "CCs Original 175g                            6048.0\n",
       "CCs Nacho Cheese    175g                     5961.9\n",
       "Cheezels Cheese Box 125g                     5733.0"
      ]
     },
     "execution_count": 357,
     "metadata": {},
     "output_type": "execute_result"
    }
   ],
   "source": [
    "katse"
   ]
  },
  {
   "cell_type": "code",
   "execution_count": 405,
   "metadata": {},
   "outputs": [
    {
     "data": {
      "text/plain": [
       "''"
      ]
     },
     "execution_count": 405,
     "metadata": {},
     "output_type": "execute_result"
    },
    {
     "data": {
      "image/png": "[encoded data removed]",
      "text/plain": [
       "<Figure size 1224x432 with 1 Axes>"
      ]
     },
     "metadata": {},
     "output_type": "display_data"
    }
   ],
   "source": [
    "# which product makes the most money?\n",
    "plt.figure(figsize=(17,6))\n",
    "\n",
    "df_items = df[['PROD_NAME', 'TOT_SALES']]\n",
    "df_items_sum = df_items.groupby('PROD_NAME').sum().head(30).sort_values(['TOT_SALES'],ascending=False)\n",
    "\n",
    "x = df_items_sum.index.to_series()\n",
    "y = df_items_sum['TOT_SALES']\n",
    "\n",
    "sns.barplot(x=x, y=y, palette='magma_r')\n",
    "plt.xticks(rotation=90)\n",
    "plt.xlabel('Product', fontsize=13)\n",
    "plt.ylabel('Amount of sales', fontsize=13)\n",
    "plt.title('Products creating revenue', fontsize=14)\n",
    ";"
   ]
  },
  {
   "cell_type": "code",
   "execution_count": 406,
   "metadata": {},
   "outputs": [
    {
     "data": {
      "text/plain": [
       "''"
      ]
     },
     "execution_count": 406,
     "metadata": {},
     "output_type": "execute_result"
    },
    {
     "data": {
      "image/png": "[encoded data removed]",
      "text/plain": [
       "<Figure size 1224x432 with 1 Axes>"
      ]
     },
     "metadata": {},
     "output_type": "display_data"
    }
   ],
   "source": [
    "# which product makes the most money?\n",
    "plt.figure(figsize=(17,6))\n",
    "\n",
    "df_items = df[['brand', 'TOT_SALES']]\n",
    "df_items_sum = df_items.groupby('brand').sum().sort_values(['TOT_SALES'],ascending=False)\n",
    "\n",
    "x = df_items_sum.index.to_series()\n",
    "y = df_items_sum['TOT_SALES']\n",
    "\n",
    "sns.barplot(x=x, y=y, palette='magma_r')\n",
    "plt.xticks(rotation=90)\n",
    "plt.xlabel('Brand', fontsize=13)\n",
    "plt.ylabel('Amount of sales', fontsize=13)\n",
    "plt.title('Brands creating revenue', fontsize=14)\n",
    ";"
   ]
  },
  {
   "cell_type": "code",
   "execution_count": null,
   "metadata": {},
   "outputs": [],
   "source": []
  },
  {
   "cell_type": "markdown",
   "metadata": {},
   "source": [
    "## Customer data"
   ]
  },
  {
   "cell_type": "code",
   "execution_count": 4,
   "metadata": {},
   "outputs": [
    {
     "data": {
      "text/html": [
       "<div>\n",
       "<style scoped>\n",
       "    .dataframe tbody tr th:only-of-type {\n",
       "        vertical-align: middle;\n",
       "    }\n",
       "\n",
       "    .dataframe tbody tr th {\n",
       "        vertical-align: top;\n",
       "    }\n",
       "\n",
       "    .dataframe thead th {\n",
       "        text-align: right;\n",
       "    }\n",
       "</style>\n",
       "<table border=\"1\" class=\"dataframe\">\n",
       "  <thead>\n",
       "    <tr style=\"text-align: right;\">\n",
       "      <th></th>\n",
       "      <th>LYLTY_CARD_NBR</th>\n",
       "      <th>LIFESTAGE</th>\n",
       "      <th>PREMIUM_CUSTOMER</th>\n",
       "    </tr>\n",
       "  </thead>\n",
       "  <tbody>\n",
       "    <tr>\n",
       "      <th>0</th>\n",
       "      <td>1000</td>\n",
       "      <td>YOUNG SINGLES/COUPLES</td>\n",
       "      <td>Premium</td>\n",
       "    </tr>\n",
       "    <tr>\n",
       "      <th>1</th>\n",
       "      <td>1002</td>\n",
       "      <td>YOUNG SINGLES/COUPLES</td>\n",
       "      <td>Mainstream</td>\n",
       "    </tr>\n",
       "    <tr>\n",
       "      <th>2</th>\n",
       "      <td>1003</td>\n",
       "      <td>YOUNG FAMILIES</td>\n",
       "      <td>Budget</td>\n",
       "    </tr>\n",
       "    <tr>\n",
       "      <th>3</th>\n",
       "      <td>1004</td>\n",
       "      <td>OLDER SINGLES/COUPLES</td>\n",
       "      <td>Mainstream</td>\n",
       "    </tr>\n",
       "    <tr>\n",
       "      <th>4</th>\n",
       "      <td>1005</td>\n",
       "      <td>MIDAGE SINGLES/COUPLES</td>\n",
       "      <td>Mainstream</td>\n",
       "    </tr>\n",
       "  </tbody>\n",
       "</table>\n",
       "</div>"
      ],
      "text/plain": [
       "   LYLTY_CARD_NBR               LIFESTAGE PREMIUM_CUSTOMER\n",
       "0            1000   YOUNG SINGLES/COUPLES          Premium\n",
       "1            1002   YOUNG SINGLES/COUPLES       Mainstream\n",
       "2            1003          YOUNG FAMILIES           Budget\n",
       "3            1004   OLDER SINGLES/COUPLES       Mainstream\n",
       "4            1005  MIDAGE SINGLES/COUPLES       Mainstream"
      ]
     },
     "execution_count": 4,
     "metadata": {},
     "output_type": "execute_result"
    }
   ],
   "source": [
    "df2 = pd.read_csv('data/QVI_purchase_behaviour.csv')\n",
    "df2.head()"
   ]
  },
  {
   "cell_type": "code",
   "execution_count": 5,
   "metadata": {},
   "outputs": [
    {
     "data": {
      "text/plain": [
       "(72637, 3)"
      ]
     },
     "execution_count": 5,
     "metadata": {},
     "output_type": "execute_result"
    }
   ],
   "source": [
    "df2.shape"
   ]
  },
  {
   "cell_type": "code",
   "execution_count": 8,
   "metadata": {},
   "outputs": [
    {
     "name": "stdout",
     "output_type": "stream",
     "text": [
      "<class 'pandas.core.frame.DataFrame'>\n",
      "RangeIndex: 72637 entries, 0 to 72636\n",
      "Data columns (total 3 columns):\n",
      " #   Column            Non-Null Count  Dtype \n",
      "---  ------            --------------  ----- \n",
      " 0   LYLTY_CARD_NBR    72637 non-null  int64 \n",
      " 1   LIFESTAGE         72637 non-null  object\n",
      " 2   PREMIUM_CUSTOMER  72637 non-null  object\n",
      "dtypes: int64(1), object(2)\n",
      "memory usage: 1.7+ MB\n"
     ]
    }
   ],
   "source": [
    "df2.info()"
   ]
  },
  {
   "cell_type": "code",
   "execution_count": null,
   "metadata": {},
   "outputs": [],
   "source": []
  }
 ],
 "metadata": {
  "kernelspec": {
   "display_name": "Python 3",
   "language": "python",
   "name": "python3"
  },
  "language_info": {
   "codemirror_mode": {
    "name": "ipython",
    "version": 3
   },
   "file_extension": ".py",
   "mimetype": "text/x-python",
   "name": "python",
   "nbconvert_exporter": "python",
   "pygments_lexer": "ipython3",
   "version": "3.7.4"
  }
 },
 "nbformat": 4,
 "nbformat_minor": 2
}

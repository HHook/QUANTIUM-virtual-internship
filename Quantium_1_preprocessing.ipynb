{
 "cells": [
  {
   "cell_type": "markdown",
   "metadata": {},
   "source": [
    "# Quantium Virtual Internship\n",
    "## Notebook 1\n",
    "## Data pre-processing"
   ]
  },
  {
   "cell_type": "markdown",
   "metadata": {},
   "source": [
    "## The task\n",
    "We need to analyse the data to understand current purchasing trends and behaviours. The client is particularly interested in customer segments and their chip purchasing behaviour. Consider what metrics would help describe the customers’ purchasing behaviour.  "
   ]
  },
  {
   "cell_type": "markdown",
   "metadata": {},
   "source": [
    "### Datasets:  \n",
    "QVI_purchase_behaviour.csv  \n",
    "QVI_transaction_data.xlsx\n",
    "\n",
    "# EDA\n",
    "High level data checks:  \n",
    "- summaries of the data  \n",
    "- sind outliers and removing these  \n",
    "- Check data formats and correct   \n",
    "\n",
    "Derive extra features:  \n",
    "- pack size  \n",
    "- brand name\n",
    "\n",
    "Examine:  \n",
    "- inconsistencies  \n",
    "- missing data  \n",
    "- correctly identified category items  \n",
    "\n",
    "Our insights need to have a commercial application as our end goal is to form a strategy based on the findings to provide a clear recommendation to the Category Manager. "
   ]
  },
  {
   "cell_type": "code",
   "execution_count": 118,
   "metadata": {},
   "outputs": [],
   "source": [
    "import numpy as np\n",
    "import pandas as pd\n",
    "import matplotlib.pyplot as plt\n",
    "%matplotlib inline\n",
    "import seaborn as sns\n",
    "sns.set_style('whitegrid')\n",
    "sns.set_palette('magma')\n",
    "from datetime import datetime\n",
    "from datetime import timedelta"
   ]
  },
  {
   "cell_type": "code",
   "execution_count": 122,
   "metadata": {},
   "outputs": [
    {
     "data": {
      "text/html": [
       "<div>\n",
       "<style scoped>\n",
       "    .dataframe tbody tr th:only-of-type {\n",
       "        vertical-align: middle;\n",
       "    }\n",
       "\n",
       "    .dataframe tbody tr th {\n",
       "        vertical-align: top;\n",
       "    }\n",
       "\n",
       "    .dataframe thead th {\n",
       "        text-align: right;\n",
       "    }\n",
       "</style>\n",
       "<table border=\"1\" class=\"dataframe\">\n",
       "  <thead>\n",
       "    <tr style=\"text-align: right;\">\n",
       "      <th></th>\n",
       "      <th>DATE</th>\n",
       "      <th>STORE_NBR</th>\n",
       "      <th>LYLTY_CARD_NBR</th>\n",
       "      <th>TXN_ID</th>\n",
       "      <th>PROD_NBR</th>\n",
       "      <th>PROD_NAME</th>\n",
       "      <th>PROD_QTY</th>\n",
       "      <th>TOT_SALES</th>\n",
       "    </tr>\n",
       "  </thead>\n",
       "  <tbody>\n",
       "    <tr>\n",
       "      <th>0</th>\n",
       "      <td>43390</td>\n",
       "      <td>1</td>\n",
       "      <td>1000</td>\n",
       "      <td>1</td>\n",
       "      <td>5</td>\n",
       "      <td>Natural Chip        Compny SeaSalt175g</td>\n",
       "      <td>2</td>\n",
       "      <td>6.0</td>\n",
       "    </tr>\n",
       "    <tr>\n",
       "      <th>1</th>\n",
       "      <td>43599</td>\n",
       "      <td>1</td>\n",
       "      <td>1307</td>\n",
       "      <td>348</td>\n",
       "      <td>66</td>\n",
       "      <td>CCs Nacho Cheese    175g</td>\n",
       "      <td>3</td>\n",
       "      <td>6.3</td>\n",
       "    </tr>\n",
       "    <tr>\n",
       "      <th>2</th>\n",
       "      <td>43605</td>\n",
       "      <td>1</td>\n",
       "      <td>1343</td>\n",
       "      <td>383</td>\n",
       "      <td>61</td>\n",
       "      <td>Smiths Crinkle Cut  Chips Chicken 170g</td>\n",
       "      <td>2</td>\n",
       "      <td>2.9</td>\n",
       "    </tr>\n",
       "    <tr>\n",
       "      <th>3</th>\n",
       "      <td>43329</td>\n",
       "      <td>2</td>\n",
       "      <td>2373</td>\n",
       "      <td>974</td>\n",
       "      <td>69</td>\n",
       "      <td>Smiths Chip Thinly  S/Cream&amp;Onion 175g</td>\n",
       "      <td>5</td>\n",
       "      <td>15.0</td>\n",
       "    </tr>\n",
       "    <tr>\n",
       "      <th>4</th>\n",
       "      <td>43330</td>\n",
       "      <td>2</td>\n",
       "      <td>2426</td>\n",
       "      <td>1038</td>\n",
       "      <td>108</td>\n",
       "      <td>Kettle Tortilla ChpsHny&amp;Jlpno Chili 150g</td>\n",
       "      <td>3</td>\n",
       "      <td>13.8</td>\n",
       "    </tr>\n",
       "  </tbody>\n",
       "</table>\n",
       "</div>"
      ],
      "text/plain": [
       "    DATE  STORE_NBR  LYLTY_CARD_NBR  TXN_ID  PROD_NBR  \\\n",
       "0  43390          1            1000       1         5   \n",
       "1  43599          1            1307     348        66   \n",
       "2  43605          1            1343     383        61   \n",
       "3  43329          2            2373     974        69   \n",
       "4  43330          2            2426    1038       108   \n",
       "\n",
       "                                  PROD_NAME  PROD_QTY  TOT_SALES  \n",
       "0    Natural Chip        Compny SeaSalt175g         2        6.0  \n",
       "1                  CCs Nacho Cheese    175g         3        6.3  \n",
       "2    Smiths Crinkle Cut  Chips Chicken 170g         2        2.9  \n",
       "3    Smiths Chip Thinly  S/Cream&Onion 175g         5       15.0  \n",
       "4  Kettle Tortilla ChpsHny&Jlpno Chili 150g         3       13.8  "
      ]
     },
     "execution_count": 122,
     "metadata": {},
     "output_type": "execute_result"
    }
   ],
   "source": [
    "df = pd.read_excel('data/QVI_transaction_data.xlsx')\n",
    "df.head()"
   ]
  },
  {
   "cell_type": "code",
   "execution_count": 123,
   "metadata": {},
   "outputs": [
    {
     "data": {
      "text/plain": [
       "(264836, 8)"
      ]
     },
     "execution_count": 123,
     "metadata": {},
     "output_type": "execute_result"
    }
   ],
   "source": [
    "df.shape"
   ]
  },
  {
   "cell_type": "markdown",
   "metadata": {},
   "source": [
    "# Explore date "
   ]
  },
  {
   "cell_type": "markdown",
   "metadata": {},
   "source": [
    "Date is in an old format of days after 30/12/1899, let's convert it to datetime.  \n",
    "info https://support.smartbear.com/testcomplete/docs/scripting/working-with/dates/python.html  "
   ]
  },
  {
   "cell_type": "code",
   "execution_count": 124,
   "metadata": {},
   "outputs": [],
   "source": [
    "# convert 'DATE' columns (which is number of days from 'zero time' 30 Dec 1899) to datetime object\n",
    "def format_date(date):\n",
    "    zero = datetime(1899, 12, 30)\n",
    "    delta = zero + timedelta(date) # add number of days from 'zero date'\n",
    "    return delta"
   ]
  },
  {
   "cell_type": "code",
   "execution_count": 125,
   "metadata": {},
   "outputs": [
    {
     "name": "stdout",
     "output_type": "stream",
     "text": [
      "2018-08-18 00:00:00\n",
      "<class 'datetime.datetime'>\n"
     ]
    }
   ],
   "source": [
    "print(format_date(43330))\n",
    "print(type(format_date(43330)))"
   ]
  },
  {
   "cell_type": "code",
   "execution_count": 126,
   "metadata": {},
   "outputs": [],
   "source": [
    "df['DATE'] = df['DATE'].apply(lambda date: format_date(date))"
   ]
  },
  {
   "cell_type": "code",
   "execution_count": 127,
   "metadata": {},
   "outputs": [
    {
     "name": "stdout",
     "output_type": "stream",
     "text": [
      "First day: 2018-07-01 00:00:00\n",
      "Last day: 2019-06-30 00:00:00\n",
      "Number of unique dates: 364\n"
     ]
    }
   ],
   "source": [
    "# transactions from one day are missing\n",
    "first = df['DATE'].min()\n",
    "last = df['DATE'].max()\n",
    "print('First day:', first)\n",
    "print('Last day:', last)\n",
    "print('Number of unique dates:', df['DATE'].nunique())"
   ]
  },
  {
   "cell_type": "code",
   "execution_count": 128,
   "metadata": {},
   "outputs": [
    {
     "data": {
      "text/plain": [
       "DatetimeIndex(['2018-12-25'], dtype='datetime64[ns]', freq=None)"
      ]
     },
     "execution_count": 128,
     "metadata": {},
     "output_type": "execute_result"
    }
   ],
   "source": [
    "# find the missing date\n",
    "pd.date_range(start=first, end=last).difference(df['DATE'])"
   ]
  },
  {
   "cell_type": "markdown",
   "metadata": {},
   "source": [
    "Missing date is Christmas day, when the shop is closed so it is not an anomaly"
   ]
  },
  {
   "cell_type": "code",
   "execution_count": 129,
   "metadata": {},
   "outputs": [],
   "source": [
    "# create a table with the missing date\n",
    "add_missing_date = pd.merge(pd.Series(pd.date_range(start=first, end=last), name='DATE'), df, on='DATE', how='left')"
   ]
  },
  {
   "cell_type": "code",
   "execution_count": 130,
   "metadata": {},
   "outputs": [
    {
     "data": {
      "text/plain": [
       "2018-12-25      1\n",
       "2018-11-25    648\n",
       "2018-10-18    658\n",
       "2019-06-13    659\n",
       "2019-06-24    662\n",
       "Name: DATE, dtype: int64"
      ]
     },
     "execution_count": 130,
     "metadata": {},
     "output_type": "execute_result"
    }
   ],
   "source": [
    "add_missing_date['DATE'].value_counts().sort_values().head()"
   ]
  },
  {
   "cell_type": "markdown",
   "metadata": {},
   "source": [
    "### Transactions over time"
   ]
  },
  {
   "cell_type": "code",
   "execution_count": 131,
   "metadata": {},
   "outputs": [],
   "source": [
    "# visualise number of transaction in given time period\n",
    "year_trans = add_missing_date['DATE'].value_counts().sort_index()"
   ]
  },
  {
   "cell_type": "code",
   "execution_count": 132,
   "metadata": {},
   "outputs": [
    {
     "data": {
      "image/png": "[encoded data removed]",
      "text/plain": [
       "<Figure size 1368x432 with 1 Axes>"
      ]
     },
     "metadata": {},
     "output_type": "display_data"
    }
   ],
   "source": [
    "# plot number of transactions over the year\n",
    "plt.figure(figsize=(19,6))\n",
    "plt.grid(False)\n",
    "plt.ylabel('No. of transactions', fontsize=15)\n",
    "plt.plot(year_trans)\n",
    "plt.title('Transactions', fontsize=18);\n",
    "# plt.savefig('viz/trans_year.jpg')"
   ]
  },
  {
   "cell_type": "code",
   "execution_count": 133,
   "metadata": {},
   "outputs": [
    {
     "name": "stderr",
     "output_type": "stream",
     "text": [
      "/Users/helenahook/opt/anaconda3/lib/python3.7/site-packages/ipykernel_launcher.py:2: FutureWarning:\n",
      "\n",
      "The pandas.datetime class is deprecated and will be removed from pandas in a future version. Import from datetime module instead.\n",
      "\n"
     ]
    }
   ],
   "source": [
    "# explore December\n",
    "dec = year_trans[(year_trans.index >= pd.datetime(2018,12,1)) & (year_trans.index < pd.datetime(2019,1,1))]"
   ]
  },
  {
   "cell_type": "code",
   "execution_count": 134,
   "metadata": {},
   "outputs": [
    {
     "data": {
      "image/png": "[encoded data removed]",
      "text/plain": [
       "<Figure size 1368x432 with 1 Axes>"
      ]
     },
     "metadata": {},
     "output_type": "display_data"
    }
   ],
   "source": [
    "# plot number of transactions in December\n",
    "plt.figure(figsize=(19,6))\n",
    "plt.grid(False)\n",
    "\n",
    "dec.index = dec.index.strftime('%d')\n",
    "positions = np.arange(0, 31)\n",
    "labels = dec.index\n",
    "plt.xticks(positions, labels)\n",
    "\n",
    "plt.ylabel('No. of transactions', fontsize=15)\n",
    "plt.plot(dec)\n",
    "plt.title('Transactions in December', fontsize=18);\n",
    "# plt.savefig('viz/trans_dec.jpg')"
   ]
  },
  {
   "cell_type": "markdown",
   "metadata": {},
   "source": [
    "# Derive features"
   ]
  },
  {
   "cell_type": "markdown",
   "metadata": {},
   "source": [
    "### Weight"
   ]
  },
  {
   "cell_type": "code",
   "execution_count": 135,
   "metadata": {},
   "outputs": [],
   "source": [
    "# function to get the weight of pack\n",
    "def get_weight(name):\n",
    "    if name.startswith('Kettle 135g'): \n",
    "        return name[7:10].strip()\n",
    "    else:\n",
    "        return name[-4:-1].strip()"
   ]
  },
  {
   "cell_type": "code",
   "execution_count": 136,
   "metadata": {},
   "outputs": [],
   "source": [
    "df['weight'] = df['PROD_NAME'].apply(lambda x: get_weight(x))"
   ]
  },
  {
   "cell_type": "code",
   "execution_count": 137,
   "metadata": {},
   "outputs": [],
   "source": [
    "# change weight data type to integer\n",
    "df['weight'] = df['weight'].astype(int)"
   ]
  },
  {
   "cell_type": "code",
   "execution_count": 138,
   "metadata": {},
   "outputs": [],
   "source": [
    "w_counts = df['weight'].value_counts()"
   ]
  },
  {
   "cell_type": "code",
   "execution_count": 139,
   "metadata": {},
   "outputs": [],
   "source": [
    "import plotly.express as px\n",
    "import plotly.graph_objects as go"
   ]
  },
  {
   "cell_type": "code",
   "execution_count": 140,
   "metadata": {},
   "outputs": [
    {
     "data": {
      "image/png": "[encoded data removed]",
      "text/plain": [
       "<Figure size 1152x432 with 1 Axes>"
      ]
     },
     "metadata": {},
     "output_type": "display_data"
    }
   ],
   "source": [
    "# plot pack sizes\n",
    "plt.figure(figsize=(16,6))\n",
    "sns.set_style('white')\n",
    "\n",
    "q = w_counts\n",
    "y = q.values\n",
    "x = q.index\n",
    "\n",
    "ax = sns.barplot(x=x, y=y, palette='magma')\n",
    "sns.despine(top=True, right=True)\n",
    "\n",
    "# label each bar \n",
    "for p in ax.patches:\n",
    "    height = p.get_height() # get the height of each bar\n",
    "    # adding text to each bar\n",
    "    ax.text(x = p.get_x()+(p.get_width()/2), # x-coordinate position of data label, padded to be in the middle of the bar\n",
    "    y = height+0.7, # y-coordinate position of data label, padded 0.2 above bar\n",
    "    s = '{:.0f}'.format(height), # data label, formatted to ignore decimals\n",
    "    ha = 'center', # sets horizontal alignment (ha) to center\n",
    "    fontsize=13)\n",
    "\n",
    "plt.xlabel('Pack size g', fontsize=14)\n",
    "plt.ylabel('count', fontsize=14)\n",
    "plt.xticks(fontsize=13)\n",
    "plt.yticks(fontsize=13)\n",
    "plt.title('Popular pack sizes', fontsize=14);\n",
    "# plt.savefig('viz/pack_sizes.png')"
   ]
  },
  {
   "cell_type": "code",
   "execution_count": 141,
   "metadata": {},
   "outputs": [],
   "source": [
    "# because there are many different pack weights we will group weights in 4 categories\n",
    "# create weight_bin, group weight classes\n",
    "def weight_bin(weight):\n",
    "    if weight <= 110:\n",
    "        return '70-110g'\n",
    "    elif (weight > 110) & (weight <= 150):\n",
    "        return '125-150g'\n",
    "    elif (weight > 150) & (weight <= 175):\n",
    "        return '160-175g'\n",
    "    else:\n",
    "        return '180-380g'"
   ]
  },
  {
   "cell_type": "code",
   "execution_count": 142,
   "metadata": {},
   "outputs": [],
   "source": [
    "df['weight_bin'] = df['weight'].apply(lambda x: weight_bin(x))"
   ]
  },
  {
   "cell_type": "code",
   "execution_count": 143,
   "metadata": {},
   "outputs": [
    {
     "data": {
      "text/html": [
       "<div>\n",
       "<style scoped>\n",
       "    .dataframe tbody tr th:only-of-type {\n",
       "        vertical-align: middle;\n",
       "    }\n",
       "\n",
       "    .dataframe tbody tr th {\n",
       "        vertical-align: top;\n",
       "    }\n",
       "\n",
       "    .dataframe thead th {\n",
       "        text-align: right;\n",
       "    }\n",
       "</style>\n",
       "<table border=\"1\" class=\"dataframe\">\n",
       "  <thead>\n",
       "    <tr style=\"text-align: right;\">\n",
       "      <th></th>\n",
       "      <th>DATE</th>\n",
       "      <th>STORE_NBR</th>\n",
       "      <th>LYLTY_CARD_NBR</th>\n",
       "      <th>TXN_ID</th>\n",
       "      <th>PROD_NBR</th>\n",
       "      <th>PROD_NAME</th>\n",
       "      <th>PROD_QTY</th>\n",
       "      <th>TOT_SALES</th>\n",
       "      <th>weight</th>\n",
       "      <th>weight_bin</th>\n",
       "    </tr>\n",
       "  </thead>\n",
       "  <tbody>\n",
       "    <tr>\n",
       "      <th>0</th>\n",
       "      <td>2018-10-17</td>\n",
       "      <td>1</td>\n",
       "      <td>1000</td>\n",
       "      <td>1</td>\n",
       "      <td>5</td>\n",
       "      <td>Natural Chip        Compny SeaSalt175g</td>\n",
       "      <td>2</td>\n",
       "      <td>6.0</td>\n",
       "      <td>175</td>\n",
       "      <td>160-175g</td>\n",
       "    </tr>\n",
       "    <tr>\n",
       "      <th>1</th>\n",
       "      <td>2019-05-14</td>\n",
       "      <td>1</td>\n",
       "      <td>1307</td>\n",
       "      <td>348</td>\n",
       "      <td>66</td>\n",
       "      <td>CCs Nacho Cheese    175g</td>\n",
       "      <td>3</td>\n",
       "      <td>6.3</td>\n",
       "      <td>175</td>\n",
       "      <td>160-175g</td>\n",
       "    </tr>\n",
       "    <tr>\n",
       "      <th>2</th>\n",
       "      <td>2019-05-20</td>\n",
       "      <td>1</td>\n",
       "      <td>1343</td>\n",
       "      <td>383</td>\n",
       "      <td>61</td>\n",
       "      <td>Smiths Crinkle Cut  Chips Chicken 170g</td>\n",
       "      <td>2</td>\n",
       "      <td>2.9</td>\n",
       "      <td>170</td>\n",
       "      <td>160-175g</td>\n",
       "    </tr>\n",
       "    <tr>\n",
       "      <th>3</th>\n",
       "      <td>2018-08-17</td>\n",
       "      <td>2</td>\n",
       "      <td>2373</td>\n",
       "      <td>974</td>\n",
       "      <td>69</td>\n",
       "      <td>Smiths Chip Thinly  S/Cream&amp;Onion 175g</td>\n",
       "      <td>5</td>\n",
       "      <td>15.0</td>\n",
       "      <td>175</td>\n",
       "      <td>160-175g</td>\n",
       "    </tr>\n",
       "    <tr>\n",
       "      <th>4</th>\n",
       "      <td>2018-08-18</td>\n",
       "      <td>2</td>\n",
       "      <td>2426</td>\n",
       "      <td>1038</td>\n",
       "      <td>108</td>\n",
       "      <td>Kettle Tortilla ChpsHny&amp;Jlpno Chili 150g</td>\n",
       "      <td>3</td>\n",
       "      <td>13.8</td>\n",
       "      <td>150</td>\n",
       "      <td>125-150g</td>\n",
       "    </tr>\n",
       "  </tbody>\n",
       "</table>\n",
       "</div>"
      ],
      "text/plain": [
       "        DATE  STORE_NBR  LYLTY_CARD_NBR  TXN_ID  PROD_NBR  \\\n",
       "0 2018-10-17          1            1000       1         5   \n",
       "1 2019-05-14          1            1307     348        66   \n",
       "2 2019-05-20          1            1343     383        61   \n",
       "3 2018-08-17          2            2373     974        69   \n",
       "4 2018-08-18          2            2426    1038       108   \n",
       "\n",
       "                                  PROD_NAME  PROD_QTY  TOT_SALES  weight  \\\n",
       "0    Natural Chip        Compny SeaSalt175g         2        6.0     175   \n",
       "1                  CCs Nacho Cheese    175g         3        6.3     175   \n",
       "2    Smiths Crinkle Cut  Chips Chicken 170g         2        2.9     170   \n",
       "3    Smiths Chip Thinly  S/Cream&Onion 175g         5       15.0     175   \n",
       "4  Kettle Tortilla ChpsHny&Jlpno Chili 150g         3       13.8     150   \n",
       "\n",
       "  weight_bin  \n",
       "0   160-175g  \n",
       "1   160-175g  \n",
       "2   160-175g  \n",
       "3   160-175g  \n",
       "4   125-150g  "
      ]
     },
     "execution_count": 143,
     "metadata": {},
     "output_type": "execute_result"
    }
   ],
   "source": [
    "df.head()"
   ]
  },
  {
   "cell_type": "markdown",
   "metadata": {},
   "source": [
    "### Brand name"
   ]
  },
  {
   "cell_type": "code",
   "execution_count": 144,
   "metadata": {},
   "outputs": [],
   "source": [
    "# get brand name\n",
    "df['brand'] = df['PROD_NAME'].apply(lambda x: x.split()[0])"
   ]
  },
  {
   "cell_type": "code",
   "execution_count": 145,
   "metadata": {},
   "outputs": [
    {
     "data": {
      "text/plain": [
       "Kettle        41288\n",
       "Smiths        28860\n",
       "Pringles      25102\n",
       "Doritos       24962\n",
       "Thins         14075\n",
       "RRD           11894\n",
       "Infuzions     11057\n",
       "WW            10320\n",
       "Cobs           9693\n",
       "Tostitos       9471\n",
       "Twisties       9454\n",
       "Old            9324\n",
       "Tyrrells       6442\n",
       "Grain          6272\n",
       "Natural        6050\n",
       "Red            5885\n",
       "Cheezels       4603\n",
       "CCs            4551\n",
       "Woolworths     4437\n",
       "Dorito         3185\n",
       "Infzns         3144\n",
       "Smith          2963\n",
       "Cheetos        2927\n",
       "Snbts          1576\n",
       "Burger         1564\n",
       "GrnWves        1468\n",
       "Sunbites       1432\n",
       "NCC            1419\n",
       "French         1418\n",
       "Name: brand, dtype: int64"
      ]
     },
     "execution_count": 145,
     "metadata": {},
     "output_type": "execute_result"
    }
   ],
   "source": [
    "# check brand names\n",
    "df['brand'].value_counts()"
   ]
  },
  {
   "cell_type": "code",
   "execution_count": 146,
   "metadata": {},
   "outputs": [],
   "source": [
    "# combine brand names written in different ways\n",
    "df.loc[df['PROD_NAME'].str.startswith('Red'), ['brand']] = 'Red Rock Deli'\n",
    "df.loc[df['PROD_NAME'].str.startswith('Old'), ['brand']] = 'Old El Paso'\n",
    "df.loc[df['PROD_NAME'].str.startswith('Dorito'), ['brand']] = 'Doritos'\n",
    "df.loc[df['PROD_NAME'].str.startswith('Natural'), ['brand']] = 'Natural Chip Co'\n",
    "df.loc[df['PROD_NAME'].str.startswith('NCC'), ['brand']] = 'Natural Chip Co'\n",
    "df.loc[df['PROD_NAME'].str.startswith('Infzns'), ['brand']] = 'Infuzions'\n",
    "df.loc[df['PROD_NAME'].str.startswith('Snbts'), ['brand']] = 'Sunbites'\n",
    "df.loc[df['PROD_NAME'].str.startswith('GrnWves'), ['brand']] = 'Sunbites'\n",
    "df.loc[df['PROD_NAME'].str.startswith('Burger'), ['brand']] = 'Smiths'\n",
    "df.loc[df['PROD_NAME'].str.startswith('Smith'), ['brand']] = 'Smiths'\n",
    "df.loc[df['PROD_NAME'].str.startswith('French'), ['brand']] = 'French Fries'"
   ]
  },
  {
   "cell_type": "markdown",
   "metadata": {},
   "source": [
    "### Wrong categories\n",
    "#### Explore products"
   ]
  },
  {
   "cell_type": "code",
   "execution_count": 147,
   "metadata": {},
   "outputs": [
    {
     "data": {
      "text/plain": [
       "Old El Paso Salsa   Dip Chnky Tom Ht300g    3125\n",
       "Old El Paso Salsa   Dip Tomato Med 300g     3114\n",
       "Old El Paso Salsa   Dip Tomato Mild 300g    3085\n",
       "Name: PROD_NAME, dtype: int64"
      ]
     },
     "execution_count": 147,
     "metadata": {},
     "output_type": "execute_result"
    }
   ],
   "source": [
    "# Old El Paso Salsa Dips are wrongly categories under chips\n",
    "df[df['PROD_NAME'].str.startswith('Old')]['PROD_NAME'].value_counts()"
   ]
  },
  {
   "cell_type": "code",
   "execution_count": 148,
   "metadata": {},
   "outputs": [
    {
     "data": {
      "text/plain": [
       "Woolworths Mild     Salsa 300g    1491\n",
       "Woolworths Medium   Salsa 300g    1430\n",
       "Name: PROD_NAME, dtype: int64"
      ]
     },
     "execution_count": 148,
     "metadata": {},
     "output_type": "execute_result"
    }
   ],
   "source": [
    "# Woolworth salsas wrongly categorised\n",
    "df[(df['brand']=='Woolworths') & (df['PROD_NAME'].str.contains('Salsa'))]['PROD_NAME'].value_counts()"
   ]
  },
  {
   "cell_type": "code",
   "execution_count": 149,
   "metadata": {},
   "outputs": [
    {
     "data": {
      "text/plain": [
       "Doritos Salsa Mild  300g           1472\n",
       "Doritos Salsa       Medium 300g    1449\n",
       "Name: PROD_NAME, dtype: int64"
      ]
     },
     "execution_count": 149,
     "metadata": {},
     "output_type": "execute_result"
    }
   ],
   "source": [
    "# Doritos salsas wrongly categorised\n",
    "df[(df['brand']=='Doritos') & (df['PROD_NAME'].str.contains('Salsa'))]['PROD_NAME'].value_counts()"
   ]
  },
  {
   "cell_type": "code",
   "execution_count": 150,
   "metadata": {},
   "outputs": [
    {
     "data": {
      "text/plain": [
       "Smiths Crinkle Cut  French OnionDip 150g    1438\n",
       "Name: PROD_NAME, dtype: int64"
      ]
     },
     "execution_count": 150,
     "metadata": {},
     "output_type": "execute_result"
    }
   ],
   "source": [
    "# dip in Smiths brand is just a name for chip flavor, not wrongly categorised\n",
    "df[(df['PROD_NAME'].str.contains('Dip')) & (df['brand']=='Smiths')]['PROD_NAME'].value_counts()"
   ]
  },
  {
   "cell_type": "code",
   "execution_count": 151,
   "metadata": {},
   "outputs": [],
   "source": [
    "# identify all Old El Paso dip product rows\n",
    "old_el = df[df['PROD_NAME'].str.startswith('Old')].index\n",
    "# identify Doritos salsas\n",
    "doritos_salsa = df[(df['brand']=='Doritos') & (df['PROD_NAME'].str.contains('Salsa'))].index\n",
    "# identify Woolworth salsas\n",
    "woolworth_salsa = df[(df['brand']=='Woolworths') & (df['PROD_NAME'].str.contains('Salsa'))]['PROD_NAME'].index"
   ]
  },
  {
   "cell_type": "code",
   "execution_count": 152,
   "metadata": {},
   "outputs": [],
   "source": [
    "# remove Old El Paso dips, Doritos salsas and Woolworths salsas\n",
    "df = df.drop(old_el)\n",
    "df = df.drop(doritos_salsa)\n",
    "df = df.drop(woolworth_salsa)"
   ]
  },
  {
   "cell_type": "markdown",
   "metadata": {},
   "source": [
    "# Stores"
   ]
  },
  {
   "cell_type": "code",
   "execution_count": 153,
   "metadata": {},
   "outputs": [
    {
     "data": {
      "text/plain": [
       "271"
      ]
     },
     "execution_count": 153,
     "metadata": {},
     "output_type": "execute_result"
    }
   ],
   "source": [
    "# we have 271 different stores\n",
    "df['STORE_NBR'].nunique()"
   ]
  },
  {
   "cell_type": "markdown",
   "metadata": {},
   "source": [
    "# Product quantities"
   ]
  },
  {
   "cell_type": "code",
   "execution_count": 154,
   "metadata": {},
   "outputs": [
    {
     "data": {
      "text/plain": [
       "2      222618\n",
       "1       25844\n",
       "5         419\n",
       "3         412\n",
       "4         375\n",
       "200         2\n",
       "Name: PROD_QTY, dtype: int64"
      ]
     },
     "execution_count": 154,
     "metadata": {},
     "output_type": "execute_result"
    }
   ],
   "source": [
    "# found 2 outliers with 200 product qunatities\n",
    "df['PROD_QTY'].value_counts()"
   ]
  },
  {
   "cell_type": "code",
   "execution_count": 155,
   "metadata": {},
   "outputs": [
    {
     "data": {
      "text/html": [
       "<div>\n",
       "<style scoped>\n",
       "    .dataframe tbody tr th:only-of-type {\n",
       "        vertical-align: middle;\n",
       "    }\n",
       "\n",
       "    .dataframe tbody tr th {\n",
       "        vertical-align: top;\n",
       "    }\n",
       "\n",
       "    .dataframe thead th {\n",
       "        text-align: right;\n",
       "    }\n",
       "</style>\n",
       "<table border=\"1\" class=\"dataframe\">\n",
       "  <thead>\n",
       "    <tr style=\"text-align: right;\">\n",
       "      <th></th>\n",
       "      <th>DATE</th>\n",
       "      <th>STORE_NBR</th>\n",
       "      <th>LYLTY_CARD_NBR</th>\n",
       "      <th>TXN_ID</th>\n",
       "      <th>PROD_NBR</th>\n",
       "      <th>PROD_NAME</th>\n",
       "      <th>PROD_QTY</th>\n",
       "      <th>TOT_SALES</th>\n",
       "      <th>weight</th>\n",
       "      <th>weight_bin</th>\n",
       "      <th>brand</th>\n",
       "    </tr>\n",
       "  </thead>\n",
       "  <tbody>\n",
       "    <tr>\n",
       "      <th>69762</th>\n",
       "      <td>2018-08-19</td>\n",
       "      <td>226</td>\n",
       "      <td>226000</td>\n",
       "      <td>226201</td>\n",
       "      <td>4</td>\n",
       "      <td>Dorito Corn Chp     Supreme 380g</td>\n",
       "      <td>200</td>\n",
       "      <td>650.0</td>\n",
       "      <td>380</td>\n",
       "      <td>180-380g</td>\n",
       "      <td>Doritos</td>\n",
       "    </tr>\n",
       "    <tr>\n",
       "      <th>69763</th>\n",
       "      <td>2019-05-20</td>\n",
       "      <td>226</td>\n",
       "      <td>226000</td>\n",
       "      <td>226210</td>\n",
       "      <td>4</td>\n",
       "      <td>Dorito Corn Chp     Supreme 380g</td>\n",
       "      <td>200</td>\n",
       "      <td>650.0</td>\n",
       "      <td>380</td>\n",
       "      <td>180-380g</td>\n",
       "      <td>Doritos</td>\n",
       "    </tr>\n",
       "  </tbody>\n",
       "</table>\n",
       "</div>"
      ],
      "text/plain": [
       "            DATE  STORE_NBR  LYLTY_CARD_NBR  TXN_ID  PROD_NBR  \\\n",
       "69762 2018-08-19        226          226000  226201         4   \n",
       "69763 2019-05-20        226          226000  226210         4   \n",
       "\n",
       "                              PROD_NAME  PROD_QTY  TOT_SALES  weight  \\\n",
       "69762  Dorito Corn Chp     Supreme 380g       200      650.0     380   \n",
       "69763  Dorito Corn Chp     Supreme 380g       200      650.0     380   \n",
       "\n",
       "      weight_bin    brand  \n",
       "69762   180-380g  Doritos  \n",
       "69763   180-380g  Doritos  "
      ]
     },
     "execution_count": 155,
     "metadata": {},
     "output_type": "execute_result"
    }
   ],
   "source": [
    "# made by the same customer\n",
    "df[df['PROD_QTY']==200]"
   ]
  },
  {
   "cell_type": "code",
   "execution_count": 156,
   "metadata": {},
   "outputs": [],
   "source": [
    "# remove those records from our dataset\n",
    "df = df[df['PROD_QTY']<6]"
   ]
  },
  {
   "cell_type": "markdown",
   "metadata": {},
   "source": [
    "# Output processed data set"
   ]
  },
  {
   "cell_type": "code",
   "execution_count": 157,
   "metadata": {},
   "outputs": [
    {
     "name": "stdout",
     "output_type": "stream",
     "text": [
      "File saved!\n"
     ]
    }
   ],
   "source": [
    "df.to_csv('data/clean_quantium_transaction_data.csv', index=False)\n",
    "print('File saved!')"
   ]
  }
 ],
 "metadata": {
  "kernelspec": {
   "display_name": "Python 3",
   "language": "python",
   "name": "python3"
  },
  "language_info": {
   "codemirror_mode": {
    "name": "ipython",
    "version": 3
   },
   "file_extension": ".py",
   "mimetype": "text/x-python",
   "name": "python",
   "nbconvert_exporter": "python",
   "pygments_lexer": "ipython3",
   "version": "3.7.4"
  }
 },
 "nbformat": 4,
 "nbformat_minor": 2
}
